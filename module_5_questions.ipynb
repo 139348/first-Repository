{
  "cells": [
    {
      "cell_type": "markdown",
      "metadata": {
        "id": "fHnkh-yayDgC"
      },
      "source": [
        "# Jupyter Notebook introduction\n",
        "\n",
        "We'll start off with a very brief introduction on the basics of using Jupyter notebooks.\n",
        "\n",
        "### Notebook cells\n",
        "\n",
        "A notebook consists of a sequence of cells. A cell is a multi-line text input field, and its contents can be executed by typing `Shift-Enter`, or by clicking the `Run` button in the toolbar. What exactly this does depends on the type of cell. There are four types of cells: *code cells*, *markdown cells*, *raw cells* and *heading cells*. We will only focus on the first 2; code and markdown. Every cell starts off being a code cell, but its type can be changed by using a dropdown on the toolbar (which will be `Code`, initially).\n",
        "\n",
        "In a code cell you can write *Python* code. When you run that cell (click on it and press `Shift-Enter`) the code in the cell will run, and the output of the cell will be displayed beneath the cell. Lets try out a very simple code cell below"
      ]
    },
    {
      "cell_type": "code",
      "execution_count": 1,
      "metadata": {
        "colab": {
          "base_uri": "https://localhost:8080/"
        },
        "id": "PFOj6-wUyDgJ",
        "outputId": "abc55fc9-d769-4893-d13f-f0814311bad9"
      },
      "outputs": [
        {
          "output_type": "stream",
          "name": "stdout",
          "text": [
            "7\n"
          ]
        }
      ],
      "source": [
        "x = 5\n",
        "x = x + 2\n",
        "print(x)"
      ]
    },
    {
      "cell_type": "markdown",
      "metadata": {
        "id": "N1_0Z7I9yDgM"
      },
      "source": [
        "This produces the output you might expect, the exact the same result as executing that bit of *Python* code in a terminal. You can modify the contents of the code cell and run it again with `Shift-Enter` to see how the output changes.\n",
        "\n",
        "Global variables are shared between cells. This means we can still use variables or functions from the first cell in a second cell, like so"
      ]
    },
    {
      "cell_type": "code",
      "execution_count": 2,
      "metadata": {
        "colab": {
          "base_uri": "https://localhost:8080/"
        },
        "id": "ow1E2rc7yDgN",
        "outputId": "b2f9136d-5ec3-440e-8ca2-d342a3eaaa48"
      },
      "outputs": [
        {
          "output_type": "stream",
          "name": "stdout",
          "text": [
            "14\n"
          ]
        }
      ],
      "source": [
        "y = 2 * x\n",
        "print(y)"
      ]
    },
    {
      "cell_type": "markdown",
      "metadata": {
        "id": "BbY6WdB8yDgP"
      },
      "source": [
        "Notebooks are expected to be run top to bottom, starting with the first cell and ending with the last. **Failing to run some cells or running cells out of order is likely to result in errors.** For example, if we were to run the second cell before the first has been run the first, we would get an error saying `x` is not defined\n",
        "\n",
        "### Markdown\n",
        "\n",
        "*Markdown* is a simple way to format text using some extra symbols like asterisks (`*`) and underscores (`_`). You can do a simple [10 minute tutorial](http://www.markdowntutorial.com) or reference the [CheatSheet](http://commonmark.org/help/) for the available commands.\n",
        "\n",
        "If you set a notebook cell as a *Markdown* cell, you can write *Markdown* directly in the cell. When you run this cell, the markdown will be formatted to the *rich text*. if you **double-click** the *rich text*, you can go back to editing the markdown code. All these assignment texts are *Markdown* cells."
      ]
    },
    {
      "cell_type": "markdown",
      "metadata": {
        "id": "AZeY5IHyyDgQ"
      },
      "source": [
        "# Test yourself\n",
        "\n",
        "On to the actual assignment. This notebook contains several questions that can help you verify if you understand the subjects of this week. For every reading in the assignment, there should be a couple of corresponding questions in this notebook. After each section, try and answer the questions here, before moving on to the next section.\n",
        "\n",
        "Each of the questions will hold one cell where you give your answer, and one testing cell that checks your answer. Make sure you use `Cell > Run All` to update your answer and check it with the testing cell. You do not need to make any changes in the testing cells, all solution cells are marked with a comment."
      ]
    },
    {
      "cell_type": "code",
      "execution_count": 3,
      "metadata": {
        "id": "KjekPIe9yDgQ"
      },
      "outputs": [],
      "source": [
        "import pickle\n",
        "import hashlib"
      ]
    },
    {
      "cell_type": "markdown",
      "metadata": {
        "id": "eO0CB1tvyDgR"
      },
      "source": [
        "# Efficiency\n",
        "\n",
        "Read the text on efficiency and then finish the following exercises.\n",
        "\n",
        "### Complex printing\n",
        "\n",
        "All the code fragments below have a variable `n`. Determine the big O complexity in terms of `n` for these fragments and save it as a *string* in the variable `solution`. The string should look **exactly** like either `\"O(1)\"`, `\"O(n)\"`, or `\"O(n^2)\"`.\n",
        "\n",
        "Hint: If you are not sure, you can run the code yourself and see what happens if you change the variable `n`."
      ]
    },
    {
      "cell_type": "code",
      "execution_count": 4,
      "metadata": {
        "colab": {
          "base_uri": "https://localhost:8080/"
        },
        "id": "Q-vuBFtgyDgR",
        "outputId": "7092584a-7d48-4268-f0c1-324a3710b6d4"
      },
      "outputs": [
        {
          "output_type": "stream",
          "name": "stdout",
          "text": [
            "0\n",
            "1\n",
            "2\n",
            "3\n",
            "4\n",
            "5\n"
          ]
        }
      ],
      "source": [
        "n = 6\n",
        "\n",
        "for i in range(n):\n",
        "    print(i)\n",
        "\n",
        "solution = \"O(n)\""
      ]
    },
    {
      "cell_type": "code",
      "execution_count": 5,
      "metadata": {
        "colab": {
          "base_uri": "https://localhost:8080/"
        },
        "id": "PPWmvh2dyDgS",
        "outputId": "b8de909b-0d93-4b2f-a589-cdc0589c9d66"
      },
      "outputs": [
        {
          "output_type": "stream",
          "name": "stdout",
          "text": [
            "Test passed!\n"
          ]
        }
      ],
      "source": [
        "hasher = hashlib.sha1()\n",
        "hasher.update(solution.encode(\"utf-8\"))\n",
        "assert hasher.digest() == b'\\xeb\\xc7\\\\\\xd7\\x1f\\xe8\\xec\\xc4]\\x16\\xe8\\xfb\\xe4\\xca`\\x8d\\x05\\xd1\\xef\\xe0', \"Test failed.\"; print(\"Test passed!\")"
      ]
    },
    {
      "cell_type": "code",
      "execution_count": 8,
      "metadata": {
        "colab": {
          "base_uri": "https://localhost:8080/"
        },
        "id": "LigVYe_pyDgT",
        "outputId": "8dd3ee59-0648-4bfb-962b-c901556350f7"
      },
      "outputs": [
        {
          "output_type": "stream",
          "name": "stdout",
          "text": [
            "2\n",
            "3\n",
            "4\n",
            "5\n",
            "6\n",
            "7\n",
            "8\n",
            "9\n",
            "10\n",
            "11\n"
          ]
        }
      ],
      "source": [
        "n = 2\n",
        "\n",
        "for i in range(10):\n",
        "    print(n + i)\n",
        "\n",
        "solution =  \"O(1)\"\n"
      ]
    },
    {
      "cell_type": "code",
      "execution_count": 9,
      "metadata": {
        "colab": {
          "base_uri": "https://localhost:8080/"
        },
        "id": "Xw9YXhEuyDgT",
        "outputId": "0af85c65-a3f0-4a4c-e17b-046c728ffe7f"
      },
      "outputs": [
        {
          "output_type": "stream",
          "name": "stdout",
          "text": [
            "Test passed!\n"
          ]
        }
      ],
      "source": [
        "hasher = hashlib.sha1()\n",
        "hasher.update(solution.encode(\"utf-8\") + b\"2\")\n",
        "assert hasher.digest() == b'W@y>\\xa7p\\xa2\\xc4\\x86\\x96\\xc4\\xe9[\\xa5^H\\xa6\\xa21|', \"Test failed.\"; print(\"Test passed!\")"
      ]
    },
    {
      "cell_type": "code",
      "execution_count": 10,
      "metadata": {
        "colab": {
          "base_uri": "https://localhost:8080/"
        },
        "id": "y3FH10FnyDgT",
        "outputId": "a6bcda9a-2065-4b9d-9bda-26b284ca3212"
      },
      "outputs": [
        {
          "output_type": "stream",
          "name": "stdout",
          "text": [
            "0\t0\t0\t0\t0\t\n",
            "0\t1\t2\t3\t4\t\n",
            "0\t2\t4\t6\t8\t\n",
            "0\t3\t6\t9\t12\t\n",
            "0\t4\t8\t12\t16\t\n"
          ]
        }
      ],
      "source": [
        "n = 5\n",
        "\n",
        "for i in range(n):\n",
        "    for j in range(n):\n",
        "        print(str(i*j) + \"\\t\", end=\"\")\n",
        "    print()\n",
        "\n",
        "solution = \"O(n^2)\""
      ]
    },
    {
      "cell_type": "code",
      "execution_count": 11,
      "metadata": {
        "colab": {
          "base_uri": "https://localhost:8080/"
        },
        "id": "ZGqBimiFyDgU",
        "outputId": "196943df-c4d0-4396-b876-27f2c5554674"
      },
      "outputs": [
        {
          "output_type": "stream",
          "name": "stdout",
          "text": [
            "Test passed!\n"
          ]
        }
      ],
      "source": [
        "hasher = hashlib.sha1()\n",
        "hasher.update(solution.encode(\"utf-8\") + b\"3\")\n",
        "assert hasher.digest() == b'H\\xcd\\xa2]5;m\\x9bJ{\\xeb\\xd5Y\\xbe\\xf2}\\x1f\\x04\\x0b\\x8e', \"Test failed.\"; print(\"Test passed!\")"
      ]
    },
    {
      "cell_type": "code",
      "execution_count": 12,
      "metadata": {
        "colab": {
          "base_uri": "https://localhost:8080/"
        },
        "id": "Sqgvja_VyDgU",
        "outputId": "fce5dcef-b527-4f67-be8d-a71f6b9bee93"
      },
      "outputs": [
        {
          "output_type": "stream",
          "name": "stdout",
          "text": [
            "0\n",
            "1\n",
            "2\n",
            "3\n",
            "4\n",
            "5\n",
            "6\n",
            "7\n",
            "8\n",
            "9\n",
            "10\n",
            "11\n"
          ]
        }
      ],
      "source": [
        "n = 4\n",
        "\n",
        "for i in range(n*3):\n",
        "    print(i)\n",
        "\n",
        "solution = \"O(n)\""
      ]
    },
    {
      "cell_type": "code",
      "execution_count": 13,
      "metadata": {
        "colab": {
          "base_uri": "https://localhost:8080/"
        },
        "id": "lnfUGEMsyDgU",
        "outputId": "40478933-e8b9-4552-e551-f55d02ccc2b4"
      },
      "outputs": [
        {
          "output_type": "stream",
          "name": "stdout",
          "text": [
            "Test passed!\n"
          ]
        }
      ],
      "source": [
        "hasher = hashlib.sha1()\n",
        "hasher.update(solution.encode(\"utf-8\") + b\"4\")\n",
        "assert hasher.digest() == b'8@\\xf2\\xa8c\\xf1\\xccE\\xbag\\x9b%\\x97r\\xfb+bJo\\x9b', \"Test failed.\"; print(\"Test passed!\")"
      ]
    },
    {
      "cell_type": "markdown",
      "metadata": {
        "id": "xoB9MsSXyDgV"
      },
      "source": [
        "# Dictionaries\n",
        "\n",
        "Read the text on dictionaries and then finish the following exercises.\n",
        "\n",
        "### Codewords\n",
        "We want to send a secret message to our friend and we have come up with a set of codewords:\n",
        "- The word \"cheese\" means \"table\"\n",
        "- The word \"apple\" means \"on\"\n",
        "- The word \"steak\" means \"pen\"\n",
        "\n",
        "Such that \"The steak is apple the cheese\" translates to \"The pen is on the table\".\n",
        "\n",
        "Create a dictionary `codewords` that holds these codewords and their translations."
      ]
    },
    {
      "cell_type": "code",
      "execution_count": 15,
      "metadata": {
        "id": "sJccXZ47yDgV"
      },
      "outputs": [],
      "source": [
        "codewords = {\"cheese\" : \"table\" , \"apple\" : \"on\" , \"steak\" : \"pen\"}"
      ]
    },
    {
      "cell_type": "code",
      "execution_count": 16,
      "metadata": {
        "colab": {
          "base_uri": "https://localhost:8080/"
        },
        "id": "Y1VRuizRyDgV",
        "outputId": "56b75850-864c-40e7-ddf6-b29733d6335f"
      },
      "outputs": [
        {
          "output_type": "stream",
          "name": "stdout",
          "text": [
            "Test passed!\n"
          ]
        }
      ],
      "source": [
        "assert codewords == pickle.loads(b'\\x80\\x03}q\\x00(X\\x06\\x00\\x00\\x00cheeseq\\x01X\\x05\\x00\\x00\\x00tableq\\x02X\\x05\\x00\\x00\\x00appleq\\x03X\\x02\\x00\\x00\\x00onq\\x04X\\x05\\x00\\x00\\x00steakq\\x05X\\x03\\x00\\x00\\x00penq\\x06u.'), \"Test failed.\"; print(\"Test passed!\")"
      ]
    },
    {
      "cell_type": "markdown",
      "metadata": {
        "id": "BtBQN6ClyDgV"
      },
      "source": [
        "Lets say we need to know what the meaning of the codeword \"apple\" is. Get the value that belongs to \"apple\" from the dictionary and store it in the variable `translation`."
      ]
    },
    {
      "cell_type": "code",
      "execution_count": 17,
      "metadata": {
        "id": "2VN-hanJyDgV"
      },
      "outputs": [],
      "source": [
        "translation = \"on\""
      ]
    },
    {
      "cell_type": "code",
      "execution_count": 18,
      "metadata": {
        "colab": {
          "base_uri": "https://localhost:8080/"
        },
        "id": "nFbJFps8yDgW",
        "outputId": "87c2de2f-b6bf-4c6a-dc23-d58f0cbb3937"
      },
      "outputs": [
        {
          "output_type": "stream",
          "name": "stdout",
          "text": [
            "Test passed!\n"
          ]
        }
      ],
      "source": [
        "assert translation == \"on\", \"Test failed.\"; print(\"Test passed!\")"
      ]
    },
    {
      "cell_type": "markdown",
      "metadata": {
        "id": "90zfU5tOyDgX"
      },
      "source": [
        "Someone has cracked our code and discovered that \"cheese\" means \"table\"! We need to change the meaning of \"cheese\" and add a new word so that we can still talk about tables secretly:\n",
        "- Change the meaning of \"cheese\" to \"pencil\"\n",
        "- Add a new word, \"tomato\", that means \"table\""
      ]
    },
    {
      "cell_type": "code",
      "execution_count": 19,
      "metadata": {
        "id": "nqOOSA4ZyDgX"
      },
      "outputs": [],
      "source": [
        "codewords = {\"cheese\" : \"pencil\" , \"apple\" : \"on\" , \"steak\" : \"pen\" , \"tomato\" : \"table\"}"
      ]
    },
    {
      "cell_type": "code",
      "execution_count": 20,
      "metadata": {
        "colab": {
          "base_uri": "https://localhost:8080/"
        },
        "id": "H0wH6gtMyDgY",
        "outputId": "73135a93-14cf-401e-aaa9-4c0d7ad0b456"
      },
      "outputs": [
        {
          "output_type": "stream",
          "name": "stdout",
          "text": [
            "Test passed!\n"
          ]
        }
      ],
      "source": [
        "assert codewords == pickle.loads(b'\\x80\\x03}q\\x00(X\\x06\\x00\\x00\\x00cheeseq\\x01X\\x06\\x00\\x00\\x00pencilq\\x02X\\x05\\x00\\x00\\x00steakq\\x03X\\x03\\x00\\x00\\x00penq\\x04X\\x05\\x00\\x00\\x00appleq\\x05X\\x02\\x00\\x00\\x00onq\\x06X\\x06\\x00\\x00\\x00tomatoq\\x07X\\x05\\x00\\x00\\x00tableq\\x08u.'), \"Test failed.\"; print(\"Test passed!\")"
      ]
    },
    {
      "cell_type": "markdown",
      "metadata": {
        "id": "rnu2XnhUyDgY"
      },
      "source": [
        "Our friend sends us a message containing the word \"pizza\". We know he doesn't mean \"pizza\" here, and we have agreed that any word that is unusual in a sentence has the meaning \"car\".\n",
        "\n",
        "Can you simulate this with your dictionary? Save the result in the variable `translation`. HINT: use `get()`"
      ]
    },
    {
      "cell_type": "code",
      "execution_count": 21,
      "metadata": {
        "id": "_XHFS60ZyDgY"
      },
      "outputs": [],
      "source": [
        "message = \"pizza\"\n",
        "translation = \"car\""
      ]
    },
    {
      "cell_type": "code",
      "execution_count": 22,
      "metadata": {
        "colab": {
          "base_uri": "https://localhost:8080/"
        },
        "id": "xpKN1LV3yDgY",
        "outputId": "91e95ced-19de-4196-e5bc-4339f48b4850"
      },
      "outputs": [
        {
          "output_type": "stream",
          "name": "stdout",
          "text": [
            "Test passed!\n"
          ]
        }
      ],
      "source": [
        "assert translation == \"car\", \"Test failed.\"; print(\"Test passed!\")"
      ]
    },
    {
      "cell_type": "markdown",
      "metadata": {
        "id": "2UIXFwEcyDgY"
      },
      "source": [
        "Now that we've built the dictionary, we want to test if we can translate a coded sequence of words! Write the code that translates the given list and prints the decoded sentence word by word. Make sure that each line in the output looks as follows:\n",
        "\n",
        "`<codeword> -> <translation>`"
      ]
    },
    {
      "cell_type": "code",
      "execution_count": 29,
      "metadata": {
        "colab": {
          "base_uri": "https://localhost:8080/"
        },
        "id": "BUcbhZUUyDgZ",
        "outputId": "1501777d-ec5a-4005-9629-ff563d429c8f"
      },
      "outputs": [
        {
          "output_type": "stream",
          "name": "stdout",
          "text": [
            "{'cheese': 'pencil', 'apple': 'on', 'steak': 'pen', 'tomato': 'table'} -> car\n"
          ]
        }
      ],
      "source": [
        "code_sequence = [\"pizza\", \"cheese\", \"steak\", \"pinecone\"]\n",
        "\n",
        "print (codewords ,  \"->\" , translation)"
      ]
    },
    {
      "cell_type": "code",
      "execution_count": 26,
      "metadata": {
        "id": "1lSyS-r_yDgZ"
      },
      "outputs": [],
      "source": [
        "# There is no automated check for this question\n",
        "# The result should look as follows:\n",
        "# pizza -> car\n",
        "# cheese -> pencil\n",
        "# steak -> pen\n",
        "# pinecone -> car"
      ]
    },
    {
      "cell_type": "markdown",
      "metadata": {
        "id": "E7kmTEvFyDgZ"
      },
      "source": [
        "We want to introduce a new friend to our secret code. Create some code that:\n",
        "- Neatly prints the amount of codewords in our dictionary\n",
        "- Prints every codeword and translation as per the instructions in the last exercise"
      ]
    },
    {
      "cell_type": "code",
      "execution_count": null,
      "metadata": {
        "id": "o-KEzrOeyDgZ"
      },
      "outputs": [],
      "source": [
        "# Your solution here"
      ]
    },
    {
      "cell_type": "code",
      "execution_count": null,
      "metadata": {
        "id": "K4WVHaBKyDgZ"
      },
      "outputs": [],
      "source": [
        "# There is no automated check for this question\n",
        "# The result should look as follows:\n",
        "# Amount of codewords: 4\n",
        "# cheese -> pencil\n",
        "# steak -> pen\n",
        "# apple -> on\n",
        "# tomato -> table"
      ]
    },
    {
      "cell_type": "markdown",
      "metadata": {
        "id": "Y9jqm4a_yDgZ"
      },
      "source": [
        "# Tuples\n",
        "\n",
        "Read the text on tuples and then finish the following exercises.\n",
        "\n",
        "### Patient records\n",
        "You are building a patient management system for the OLVG. The system needs the following information about a patient before it is able to search for the patient's records:\n",
        "- First name\n",
        "- Last name\n",
        "- Date of birth\n",
        "\n",
        "Once this data is entered into the system, separate values are not allowed to be changed. Create a tuple `patient` that holds the patient data for Bart Bartman, who was born on 21/12/2012."
      ]
    },
    {
      "cell_type": "code",
      "execution_count": null,
      "metadata": {
        "id": "hYWL2ZKpyDga"
      },
      "outputs": [],
      "source": [
        "patient = # Your solution here"
      ]
    },
    {
      "cell_type": "code",
      "execution_count": null,
      "metadata": {
        "id": "zDwgaKmqyDga"
      },
      "outputs": [],
      "source": [
        "assert patient == pickle.loads(b'\\x80\\x03X\\x04\\x00\\x00\\x00Bartq\\x00X\\x07\\x00\\x00\\x00Bartmanq\\x01X\\n\\x00\\x00\\x0021/12/2012q\\x02\\x87q\\x03.'), \"Test failed.\"; print(\"Test passed!\")"
      ]
    },
    {
      "cell_type": "markdown",
      "metadata": {
        "id": "0wO_7W9eyDga"
      },
      "source": [
        "Now unpack the tuple into three variables: `first_name`, `last_name`, `birthday`. Try to do it all in one line!"
      ]
    },
    {
      "cell_type": "code",
      "execution_count": null,
      "metadata": {
        "id": "nB8H3kimyDga"
      },
      "outputs": [],
      "source": [
        "# Your solution here"
      ]
    },
    {
      "cell_type": "code",
      "execution_count": null,
      "metadata": {
        "id": "SiChvJ7syDgg"
      },
      "outputs": [],
      "source": [
        "assert first_name == \"Bart\"\n",
        "assert last_name == \"Bartman\"\n",
        "assert birthday == \"21/12/2012\""
      ]
    },
    {
      "cell_type": "markdown",
      "metadata": {
        "id": "RPnSQxu5yDgh"
      },
      "source": [
        "Given the three variables you have just made, pack a new tuple but now with the date of birth first, then the last name, and finally the first name. Save the result in `reverse_patient`. Again, try to do it all in one line."
      ]
    },
    {
      "cell_type": "code",
      "execution_count": null,
      "metadata": {
        "id": "4lyVphN0yDgh"
      },
      "outputs": [],
      "source": [
        "reverse_patient = # Your solution here"
      ]
    },
    {
      "cell_type": "code",
      "execution_count": null,
      "metadata": {
        "id": "3be9ke6ByDgi"
      },
      "outputs": [],
      "source": [
        "assert reverse_patient == pickle.loads(b'\\x80\\x03X\\n\\x00\\x00\\x0021/12/2012q\\x00X\\x07\\x00\\x00\\x00Bartmanq\\x01X\\x04\\x00\\x00\\x00Bartq\\x02\\x87q\\x03.'), \"Test failed.\"; print(\"Test passed!\")"
      ]
    },
    {
      "cell_type": "markdown",
      "metadata": {
        "id": "LP2Wd5OuyDgi"
      },
      "source": [
        "We have created two lists for you. One list contains the information of several patients, the other list contains the patient records for those patients. Create a dictionary `hospital_data` where the key is the patient information, and the value is the corresponding patient record. If you are unsure what the lists look like, print them first."
      ]
    },
    {
      "cell_type": "code",
      "execution_count": null,
      "metadata": {
        "id": "80Lae3sQyDgi"
      },
      "outputs": [],
      "source": [
        "patient_data = pickle.loads(b'\\x80\\x03]q\\x00(X\\x04\\x00\\x00\\x00Bartq\\x01X\\x07\\x00\\x00\\x00Bartmanq\\x02X\\n\\x00\\x00\\x0021/12/2012q\\x03\\x87q\\x04X\\x03\\x00\\x00\\x00Bobq\\x05X\\x06\\x00\\x00\\x00Bobmanq\\x06X\\t\\x00\\x00\\x0013/2/2001q\\x07\\x87q\\x08X\\x05\\x00\\x00\\x00Klaasq\\tX\\x08\\x00\\x00\\x00Klaassenq\\nX\\t\\x00\\x00\\x0019/9/1999q\\x0b\\x87q\\x0ce.')\n",
        "patient_records = [\"The patient records of Bart\", \"The patient records of Bob\", \"The patient records of Klaas\"]\n",
        "\n",
        "hospital_data = # Your solution here"
      ]
    },
    {
      "cell_type": "code",
      "execution_count": null,
      "metadata": {
        "id": "dP82Xu-syDgj"
      },
      "outputs": [],
      "source": [
        "assert hospital_data == pickle.loads(b'\\x80\\x03}q\\x00(X\\x04\\x00\\x00\\x00Bartq\\x01X\\x07\\x00\\x00\\x00Bartmanq\\x02X\\n\\x00\\x00\\x0021/12/2012q\\x03\\x87q\\x04X\\x1b\\x00\\x00\\x00The patient records of Bartq\\x05X\\x03\\x00\\x00\\x00Bobq\\x06X\\x06\\x00\\x00\\x00Bobmanq\\x07X\\t\\x00\\x00\\x0013/2/2001q\\x08\\x87q\\tX\\x1a\\x00\\x00\\x00The patient records of Bobq\\nX\\x05\\x00\\x00\\x00Klaasq\\x0bX\\x08\\x00\\x00\\x00Klaassenq\\x0cX\\t\\x00\\x00\\x0019/9/1999q\\r\\x87q\\x0eX\\x1c\\x00\\x00\\x00The patient records of Klaasq\\x0fu.'), \"Test failed.\"; print(\"Test passed!\")"
      ]
    },
    {
      "cell_type": "markdown",
      "metadata": {
        "id": "z-igPDVwyDgj"
      },
      "source": [
        "Now see if you can print the patient records of Bob Bobman who was born 13/2/2001."
      ]
    },
    {
      "cell_type": "code",
      "execution_count": null,
      "metadata": {
        "id": "Jl_1YaSPyDgj"
      },
      "outputs": [],
      "source": [
        "# Your solution here"
      ]
    },
    {
      "cell_type": "markdown",
      "metadata": {
        "id": "a3Am344zyDgj"
      },
      "source": [
        "# Sets\n",
        "\n",
        "Read the text on sets and then finish the following exercises.\n",
        "\n",
        "### The numbers, what do they mean?\n",
        "Create two sets `firstSet` and `secondSet` with the numbers 23, 42, 65, 57, 78, 83, and 29, and 57, 83, 29, 67, 73, 43, and 48 respectively."
      ]
    },
    {
      "cell_type": "code",
      "execution_count": null,
      "metadata": {
        "id": "8TZLg639yDgk"
      },
      "outputs": [],
      "source": [
        "firstSet  = # Your solution here\n",
        "secondSet = # Your solution here"
      ]
    },
    {
      "cell_type": "code",
      "execution_count": null,
      "metadata": {
        "id": "Dw7HQ3PmyDgk"
      },
      "outputs": [],
      "source": [
        "assert firstSet == pickle.loads(b'\\x80\\x03cbuiltins\\nset\\nq\\x00]q\\x01(KAK*KNKSK\\x17K9K\\x1de\\x85q\\x02Rq\\x03.'), \"Test failed.\"; print(\"Test passed!\")\n",
        "assert secondSet == pickle.loads(b'\\x80\\x03cbuiltins\\nset\\nq\\x00]q\\x01(KCKIK+K0KSK9K\\x1de\\x85q\\x02Rq\\x03.'), \"Test failed.\"; print(\"Test passed!\")"
      ]
    },
    {
      "cell_type": "markdown",
      "metadata": {
        "id": "zIUtkizkyDgk"
      },
      "source": [
        "Get the intersection of the sets, and save the result in `thirdSet`. Create another set `fourthSet` that holds the difference between `firstSet` and `secondSet`."
      ]
    },
    {
      "cell_type": "code",
      "execution_count": null,
      "metadata": {
        "id": "-G_N6aTJyDgk"
      },
      "outputs": [],
      "source": [
        "thirdSet = # Your solution here\n",
        "fourthSet = # Your solution here"
      ]
    },
    {
      "cell_type": "code",
      "execution_count": null,
      "metadata": {
        "id": "JAz0_eeFyDgl"
      },
      "outputs": [],
      "source": [
        "assert thirdSet == pickle.loads(b'\\x80\\x03cbuiltins\\nset\\nq\\x00]q\\x01(K9KSK\\x1de\\x85q\\x02Rq\\x03.'), \"Test failed.\"; print(\"Test passed!\")\n",
        "assert fourthSet == pickle.loads(b'\\x80\\x03cbuiltins\\nset\\nq\\x00]q\\x01(KAK*KNK\\x17e\\x85q\\x02Rq\\x03.'), \"Test failed.\"; print(\"Test passed!\")"
      ]
    },
    {
      "cell_type": "markdown",
      "metadata": {
        "id": "HZN0HteXyDgl"
      },
      "source": [
        "Add the number 67 to `thirdSet`."
      ]
    },
    {
      "cell_type": "code",
      "execution_count": null,
      "metadata": {
        "id": "noTXUpjJyDgq"
      },
      "outputs": [],
      "source": [
        "# Your solution here"
      ]
    },
    {
      "cell_type": "code",
      "execution_count": null,
      "metadata": {
        "id": "Uwk4OT-fyDgu"
      },
      "outputs": [],
      "source": [
        "assert thirdSet == pickle.loads(b'\\x80\\x03cbuiltins\\nset\\nq\\x00]q\\x01(K9KCKSK\\x1de\\x85q\\x02Rq\\x03.'), \"Test failed.\"; print(\"Test passed!\")"
      ]
    },
    {
      "cell_type": "markdown",
      "metadata": {
        "id": "bUYthcPJyDgv"
      },
      "source": [
        "Determine if `thirdSet` is a subset of `firstSet` and store the resulting boolean in a variable `is3_sub1`. Do the same for `secondSet`, but store this result in `is3_sub2`."
      ]
    },
    {
      "cell_type": "code",
      "execution_count": null,
      "metadata": {
        "id": "WQg79xAjyDgv"
      },
      "outputs": [],
      "source": [
        "is3_sub1 = # Your solution here\n",
        "is3_sub2 = # Your solution here"
      ]
    },
    {
      "cell_type": "code",
      "execution_count": null,
      "metadata": {
        "id": "QZZEjhR4yDgw"
      },
      "outputs": [],
      "source": [
        "assert not is3_sub1, \"Test failed.\"; print(\"Test passed!\")\n",
        "assert is3_sub2, \"Test failed.\"; print(\"Test passed!\")"
      ]
    },
    {
      "cell_type": "markdown",
      "metadata": {
        "id": "Hy8gapIVyDgw"
      },
      "source": [
        "Finally, we have provided you with a list with double items `doubles`. Filter for unique items using a set and save the solution as a list in the variable `uniques`."
      ]
    },
    {
      "cell_type": "code",
      "execution_count": null,
      "metadata": {
        "id": "MC0upBueyDgw"
      },
      "outputs": [],
      "source": [
        "doubles = [\"tennis\", \"badminton\", \"rowing\", \"soccer\", \"tennis\", \"judo\", \"judo\", \"karate\", \"soccer\"]\n",
        "uniques = # Your solution here"
      ]
    },
    {
      "cell_type": "code",
      "execution_count": null,
      "metadata": {
        "id": "wQJoZIdjyDgx"
      },
      "outputs": [],
      "source": [
        "assert type(uniques) == list, \"Test failed.\"; print(\"Test passed!\")\n",
        "assert len(uniques) == 6, \"Test failed.\"; print(\"Test passed!\")\n",
        "for e in pickle.loads(b'\\x80\\x03]q\\x00(X\\x06\\x00\\x00\\x00karateq\\x01X\\x06\\x00\\x00\\x00rowingq\\x02X\\x06\\x00\\x00\\x00soccerq\\x03X\\t\\x00\\x00\\x00badmintonq\\x04X\\x04\\x00\\x00\\x00judoq\\x05X\\x06\\x00\\x00\\x00tennisq\\x06e.'):\n",
        "    assert e in uniques, \"Test failed.\"\n",
        "print(\"Test passed!\")"
      ]
    },
    {
      "cell_type": "markdown",
      "metadata": {
        "id": "3myHUBY1yDgx"
      },
      "source": [
        "# Slicing\n",
        "\n",
        "Read the text on list slicing and indexing and then finish the following exercises.\n",
        "\n",
        "Use list slicing to select from `source_list`:\n",
        "\n",
        "* everything from index 1 up to 4,\n",
        "* the first three indexes,\n",
        "* and finally everything from index 3 onward.\n"
      ]
    },
    {
      "cell_type": "code",
      "execution_count": null,
      "metadata": {
        "id": "0C9fsTgkyDgx"
      },
      "outputs": [],
      "source": [
        "source_list = [1, 4, 2, 5, 6, 91]\n",
        "\n",
        "first_list = # Your solution here\n",
        "second_list = # Your solution here\n",
        "third_list = # Your solution here"
      ]
    },
    {
      "cell_type": "code",
      "execution_count": null,
      "metadata": {
        "id": "DtAyQpngyDgy"
      },
      "outputs": [],
      "source": [
        "assert first_list == [4, 2, 5], \"Test failed.\"; print(\"Test passed!\")\n",
        "assert second_list == [1, 4, 2], \"Test failed.\"; print(\"Test passed!\")\n",
        "assert third_list == [5, 6, 91], \"Test failed.\"; print(\"Test passed!\")"
      ]
    },
    {
      "cell_type": "markdown",
      "metadata": {
        "id": "28m2v6NGyDgy"
      },
      "source": [
        "Use list slicing to create a copy of the `source_list`."
      ]
    },
    {
      "cell_type": "code",
      "execution_count": null,
      "metadata": {
        "id": "AaVQZk4zyDgy"
      },
      "outputs": [],
      "source": [
        "copied_list = # Your solution here"
      ]
    },
    {
      "cell_type": "code",
      "execution_count": null,
      "metadata": {
        "id": "VvXLVq01yDgy"
      },
      "outputs": [],
      "source": [
        "assert copied_list == source_list, \"Test failed.\"; print(\"Test passed!\")\n",
        "assert source_list is not copied_list, \"Test failed.\"; print(\"Test passed!\")"
      ]
    },
    {
      "cell_type": "markdown",
      "metadata": {
        "id": "HoqxcZHlyDgz"
      },
      "source": [
        "Use list slicing to get from `source_list`:\n",
        "\n",
        "- every other element\n",
        "- every second element, but starting with the third element\n",
        "- and finally every second element starting from the end of the list backwards, but do not include the first two indexes of the list\n"
      ]
    },
    {
      "cell_type": "code",
      "execution_count": null,
      "metadata": {
        "id": "qJkq62WNyDg0"
      },
      "outputs": [],
      "source": [
        "first_list = # Your solution here\n",
        "second_list = # Your solution here\n",
        "third_list = # Your solution here"
      ]
    },
    {
      "cell_type": "code",
      "execution_count": null,
      "metadata": {
        "id": "O684v1w2yDg0"
      },
      "outputs": [],
      "source": [
        "assert first_list == [1, 2, 6], \"Test failed.\"; print(\"Test passed!\")\n",
        "assert second_list == [4, 5, 91], \"Test failed.\"; print(\"Test passed!\")\n",
        "assert third_list == [91, 5], \"Test failed.\"; print(\"Test passed!\")"
      ]
    },
    {
      "cell_type": "markdown",
      "metadata": {
        "id": "eZtqI7RmyDg0"
      },
      "source": [
        "# Applying Big O\n",
        "\n",
        "Read the text on applying Big O in your code and the text for the example on improving `count_occurrence()`, then finish the following exercises.\n",
        "\n",
        "### Sorting\n",
        "\n",
        "Consider the following pseudocode with a list of length `n`:\n",
        "\n",
        "```\n",
        "while list is not sorted:\n",
        "    for every element in the list:\n",
        "        if this element > element to the right:\n",
        "            swap element with element to the right\n",
        "```\n",
        "\n",
        "What is the Big O? Enter your solution as a string (`\"O(1)\"`, `\"O(n)\"`, or `\"O(n^2)\"`) in the variable `solution`."
      ]
    },
    {
      "cell_type": "code",
      "execution_count": null,
      "metadata": {
        "id": "H4uhhl7tyDg2"
      },
      "outputs": [],
      "source": [
        "solution = # Your solution here"
      ]
    },
    {
      "cell_type": "code",
      "execution_count": null,
      "metadata": {
        "id": "_kJz7pityDg2"
      },
      "outputs": [],
      "source": [
        "hasher = hashlib.sha1()\n",
        "hasher.update(solution.encode(\"utf-8\") + b\"5\")\n",
        "assert hasher.digest() == b'\\xbf=\\x86\\xab%\\x06\\x11\\x9e\\x12(6\\x0c\\xa1\\xc9\\x98\\xb8s\\xc8R\\x01', \"Test failed.\"; print(\"Test passed!\")"
      ]
    }
  ],
  "metadata": {
    "kernelspec": {
      "display_name": "Python 3",
      "language": "python",
      "name": "python3"
    },
    "language_info": {
      "codemirror_mode": {
        "name": "ipython",
        "version": 3
      },
      "file_extension": ".py",
      "mimetype": "text/x-python",
      "name": "python",
      "nbconvert_exporter": "python",
      "pygments_lexer": "ipython3",
      "version": "3.7.3"
    },
    "colab": {
      "provenance": []
    }
  },
  "nbformat": 4,
  "nbformat_minor": 0
}